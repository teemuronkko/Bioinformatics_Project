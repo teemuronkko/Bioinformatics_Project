{
 "cells": [
  {
   "cell_type": "markdown",
   "metadata": {},
   "source": [
    "# Numpyro implementation of the (univariate) Von Mises distribution"
   ]
  },
  {
   "cell_type": "code",
   "execution_count": 1,
   "metadata": {},
   "outputs": [],
   "source": [
    "import jax\n",
    "import jax.numpy as np\n",
    "import jax.random as random\n",
    "import numpy as onp\n",
    "import math\n",
    "\n",
    "from jax.scipy.special import gammaln\n",
    "from numpyro.distributions import constraints\n",
    "from numpyro.distributions.distribution import Distribution\n",
    "from numpyro.distributions.util import lazy_property\n",
    "from numpyro.util import copy_docs_from\n",
    "from jax.scipy.special import logsumexp\n",
    "from jax import jit, lax\n",
    "from functools import partial\n",
    "from numpyro.distributions.util import (\n",
    "    cholesky_of_inverse,\n",
    "    cumsum,\n",
    "    lazy_property,\n",
    "    matrix_to_tril_vec,\n",
    "    promote_shapes,\n",
    "    signed_stick_breaking_tril,\n",
    "    validate_sample,\n",
    "    vec_to_tril_matrix\n",
    ")\n",
    "\n",
    "_I0_COEF_SMALL = [1.0, 3.5156229, 3.0899424, 1.2067492, 0.2659732, 0.360768e-1, 0.45813e-2]\n",
    "_I0_COEF_LARGE = [0.39894228, 0.1328592e-1, 0.225319e-2, -0.157565e-2, 0.916281e-2,\n",
    "                  -0.2057706e-1, 0.2635537e-1, -0.1647633e-1, 0.392377e-2]\n",
    "_I1_COEF_SMALL = [0.5, 0.87890594, 0.51498869, 0.15084934, 0.2658733e-1, 0.301532e-2, 0.32411e-3]\n",
    "_I1_COEF_LARGE = [0.39894228, -0.3988024e-1, -0.362018e-2, 0.163801e-2, -0.1031555e-1,\n",
    "                  0.2282967e-1, -0.2895312e-1, 0.1787654e-1, -0.420059e-2]\n",
    "\n",
    "_COEF_SMALL = [_I0_COEF_SMALL, _I1_COEF_SMALL]\n",
    "_COEF_LARGE = [_I0_COEF_LARGE, _I1_COEF_LARGE]\n",
    "\n",
    "def _log_modified_bessel_fn(x, order=0):\n",
    "    \"\"\"\n",
    "    Returns ``log(I_order(x))`` for ``x > 0``,\n",
    "    where `order` is either 0 or 1.\n",
    "    \"\"\"\n",
    "    assert order == 0 or order == 1\n",
    "\n",
    "    # compute small solution\n",
    "    y = (x / 3.75)\n",
    "    y = y * y\n",
    "    small = _eval_poly(y, _COEF_SMALL[order])\n",
    "    \n",
    "    if order == 1:\n",
    "        small = abs(x) * small\n",
    "    small = np.log(small)\n",
    "\n",
    "    # compute large solution\n",
    "    y = 3.75 / x\n",
    "    large = x - 0.5 * np.log(x) + np.log(_eval_poly(y, _COEF_LARGE[order]))\n",
    "\n",
    "    result = np.where(x < 3.75, small, large)\n",
    "    return result\n",
    "\n",
    "def _eval_poly(y, coef):\n",
    "    coef = list(coef)\n",
    "    result = coef.pop()\n",
    "    while coef:\n",
    "        result = coef.pop() + y * result\n",
    "    return result\n",
    "\n",
    "@jit\n",
    "def condition(args):\n",
    "    return ~np.all(args[2])\n",
    "\n",
    "@jit\n",
    "def loop(args):\n",
    "    x, proposal_r, done, key, concentration = args\n",
    "    key, subkey = jax.random.split(key)\n",
    "    u = jax.random.uniform(subkey, shape = (3,) + x.shape)\n",
    "    u1, u2, u3 = u.squeeze()\n",
    "    z = np.cos(math.pi * u1)\n",
    "    f = (1 + proposal_r * z) / (proposal_r + z)\n",
    "    c = concentration * (proposal_r - f)\n",
    "    accept = ((c * (2 - c) - u2) > 0) | (np.log(c / u2) + 1 - c >= 0)\n",
    "    x = np.where(accept, np.sign(u3 - 0.5) * np.arccos(f),  x)          \n",
    "    done = done | accept\n",
    "    return x, proposal_r, done, key, concentration\n",
    "\n",
    "@jit\n",
    "def _rejection_sample(loc, concentration, proposal_r, key, x):\n",
    "    done = np.zeros(x.shape, dtype=bool)\n",
    "    x = lax.while_loop(condition, loop, (x, proposal_r, done, key, concentration))[0]\n",
    "    return (x + math.pi + loc) % (2 * math.pi) - math.pi\n",
    "    \n",
    "@copy_docs_from(Distribution)\n",
    "class VonMises(Distribution):\n",
    "    \"\"\"\n",
    "    A circular von Mises distribution.\n",
    "\n",
    "    This implementation uses polar coordinates. The ``loc`` and ``value`` args\n",
    "    can be any real number (to facilitate unconstrained optimization), but are\n",
    "    interpreted as angles modulo 2 pi.\n",
    "\n",
    "    :param int: an angle in radians.\n",
    "    :param int: concentration parameter\n",
    "    \n",
    "    \"\"\"\n",
    "    arg_constraints = {'loc': constraints.real, 'concentration': constraints.positive}\n",
    "    support = constraints.real\n",
    "    has_rsample = False\n",
    "    \n",
    "    def __repr__(self):\n",
    "        return str(type(self).__name__) + \"(loc: \" + str(self.loc) + \", concentration: \" + str(self.concentration) + \")\"\n",
    "\n",
    "    def __init__(self, loc, concentration, validate_args=None):\n",
    "        self.loc, self.concentration = promote_shapes(loc, concentration)\n",
    "        batch_shape = lax.broadcast_shapes(np.shape(loc), np.shape(concentration))\n",
    "        event_shape = ()\n",
    "\n",
    "        # Parameters for sampling\n",
    "        tau = 1 + np.sqrt(1 + 4 * self.concentration ** 2)\n",
    "        rho = (tau - np.sqrt(2 * tau)) / (2 * self.concentration)\n",
    "        self._proposal_r = (1 + rho ** 2) / (2 * rho)\n",
    "        \n",
    "        super(VonMises, self).__init__(batch_shape, event_shape, validate_args)\n",
    "\n",
    "    def log_prob(self, value):\n",
    "        log_prob = self.concentration * np.cos(value - self.loc)\n",
    "        log_prob = log_prob - math.log(2 * math.pi) - _log_modified_bessel_fn(self.concentration, order=0)\n",
    "        return log_prob\n",
    "    \n",
    "    def sample(self, key, sample_shape = ()):\n",
    "        \"\"\"\n",
    "        The sampling algorithm for the von Mises distribution is based on the following paper:\n",
    "        Best, D. J., and Nicholas I. Fisher.\n",
    "        \"Efficient simulation of the von Mises distribution.\" Applied Statistics (1979): 152-157.\n",
    "        \"\"\"\n",
    "        if isinstance(sample_shape, int):\n",
    "            shape = tuple([sample_shape]) + self.batch_shape + self.event_shape\n",
    "        else:\n",
    "            shape = sample_shape + self.batch_shape + self.event_shape\n",
    "            \n",
    "        x = np.empty(shape)            \n",
    "        return _rejection_sample(self.loc, self.concentration, self._proposal_r, key, x)\n",
    "\n",
    "    def expand(self, batch_shape):\n",
    "        validate_args = self.__dict__.get('_validate_args')\n",
    "        loc = np.ones(batch_shape)*self.loc\n",
    "        concentration = np.ones(batch_shape)*self.concentration\n",
    "        return VonMises(loc, concentration, validate_args=validate_args)\n",
    "\n",
    "    @property\n",
    "    def mean(self):\n",
    "        \"\"\"\n",
    "        The provided mean is the circular one.\n",
    "        \"\"\"\n",
    "        return self.loc\n",
    "\n",
    "    @lazy_property\n",
    "    def variance(self):\n",
    "        \"\"\"\n",
    "        The provided variance is the circular one.\n",
    "        \"\"\"\n",
    "        return 1 - np.exp(_log_modified_bessel_fn(self.concentration, order=1) -\n",
    "                    _log_modified_bessel_fn(self.concentration, order=0))\n"
   ]
  },
  {
   "cell_type": "code",
   "execution_count": 2,
   "metadata": {},
   "outputs": [
    {
     "name": "stdout",
     "output_type": "stream",
     "text": [
      "VonMises(loc: 0, concentration: 4) \n",
      "\n",
      "Sampling 10000000 values: \n",
      " [ 0.43092918  0.7343147   0.06427526 ...  0.3453114   0.2717576\n",
      " -0.02171373] \n",
      "\n",
      "Mean:  0\n",
      "Variance:  0.13647735\n",
      "Log-prob:  -2.1016407\n"
     ]
    }
   ],
   "source": [
    "#Example on use\n",
    "rng_key = random.PRNGKey(1)\n",
    "example = VonMises(0, 4)\n",
    "n = 10000000\n",
    "print(example, \"\\n\")\n",
    "print(\"Sampling {} values: \\n\".format(n), example.sample(rng_key, n), \"\\n\")\n",
    "print(\"Mean: \", example.mean)\n",
    "print(\"Variance: \", example.variance)\n",
    "print(\"Log-prob: \", example.log_prob(1))"
   ]
  },
  {
   "cell_type": "markdown",
   "metadata": {},
   "source": [
    "## Comparing runtime, torch.distribution.VonMises vs. Numpyro"
   ]
  },
  {
   "cell_type": "code",
   "execution_count": 3,
   "metadata": {},
   "outputs": [
    {
     "name": "stdout",
     "output_type": "stream",
     "text": [
      "Generating 1000000 samples, Numpyro implementation:  0.6725201606750488\n",
      "Torch distribution run time for 1000000 samples:  0.5443289279937744\n"
     ]
    }
   ],
   "source": [
    "import time\n",
    "import torch\n",
    "from torch.distributions import VonMises as vm\n",
    "\n",
    "example = VonMises(0, 4)\n",
    "rng_key = random.PRNGKey(2)\n",
    "\n",
    "#My Numpyro implementation\n",
    "start = time.time()\n",
    "samples = example.sample(rng_key, 1000000)\n",
    "end = time.time()\n",
    "print(\"Generating 1000000 samples, Numpyro implementation: \", end - start)\n",
    "\n",
    "#Torch distribution\n",
    "d = vm(torch.tensor(0.5), torch.tensor(0.5))\n",
    "start = time.time()\n",
    "d.sample(torch.Size([1000000]))\n",
    "end = time.time()\n",
    "print(\"Torch distribution run time for 1000000 samples: \", end - start)"
   ]
  },
  {
   "cell_type": "markdown",
   "metadata": {},
   "source": [
    "## Plotting the distribution \n",
    "\n",
    "Sanity check whether the sampling process follows the actual pdf. "
   ]
  },
  {
   "cell_type": "code",
   "execution_count": 4,
   "metadata": {},
   "outputs": [],
   "source": [
    "import matplotlib.pyplot as plt\n",
    "from scipy.special import i0\n",
    "mu, kappa = 0.0, 4.0 # mean and dispersion\n",
    "test = example.sample(rng_key, 1000000)\n",
    "x = np.linspace(-np.pi, np.pi, num=51)\n",
    "y = np.exp(kappa*np.cos(x-0))/(2*np.pi*i0(4))\n",
    "plt.hist(test, 100, density=True)\n",
    "plt.plot(x, y, linewidth=2, color='r');"
   ]
  },
  {
   "cell_type": "markdown",
   "metadata": {},
   "source": [
    "## Comparing results from torch.distributions.VonMises and making sure that the output dimensions are correct"
   ]
  },
  {
   "cell_type": "code",
   "execution_count": 5,
   "metadata": {},
   "outputs": [
    {
     "name": "stdout",
     "output_type": "stream",
     "text": [
      "torch.Size([])\n",
      "torch.Size([])\n",
      "torch.Size([])\n",
      "torch.Size([])\n",
      "tensor(-2.3000)\n",
      "tensor(-0.2119)\n"
     ]
    }
   ],
   "source": [
    "d = vm(torch.tensor(0.5), torch.tensor(0.5))\n",
    "print(d.batch_shape)\n",
    "print(d.event_shape)\n",
    "x = d.sample()\n",
    "print(x.shape)\n",
    "print(d.log_prob(x).shape)\n",
    "print(d.log_prob(3))\n",
    "print(x)"
   ]
  },
  {
   "cell_type": "code",
   "execution_count": 6,
   "metadata": {},
   "outputs": [
    {
     "name": "stdout",
     "output_type": "stream",
     "text": [
      "()\n",
      "()\n",
      "()\n",
      "()\n",
      "-2.2999985\n",
      "0.9290278\n"
     ]
    }
   ],
   "source": [
    "d = VonMises(0.5, 0.5)\n",
    "print(d.batch_shape)\n",
    "print(d.event_shape)\n",
    "x = d.sample(rng_key)\n",
    "print(x.shape)\n",
    "print(d.log_prob(x).shape)\n",
    "print(d.log_prob(3))\n",
    "print(x)"
   ]
  }
 ],
 "metadata": {
  "kernelspec": {
   "display_name": "Python 3",
   "language": "python",
   "name": "python3"
  },
  "language_info": {
   "codemirror_mode": {
    "name": "ipython",
    "version": 3
   },
   "file_extension": ".py",
   "mimetype": "text/x-python",
   "name": "python",
   "nbconvert_exporter": "python",
   "pygments_lexer": "ipython3",
   "version": "3.7.4"
  }
 },
 "nbformat": 4,
 "nbformat_minor": 2
}
